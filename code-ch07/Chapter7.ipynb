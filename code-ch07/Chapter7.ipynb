{
 "cells": [
  {
   "cell_type": "code",
   "execution_count": 1,
   "metadata": {},
   "outputs": [],
   "source": [
    "############## PLEASE RUN THIS CELL FIRST! ###################\n",
    "\n",
    "# import everything and define a test runner function\n",
    "from importlib import reload\n",
    "from helper import run\n",
    "import ecc\n",
    "import helper\n",
    "import tx\n",
    "import script"
   ]
  },
  {
   "cell_type": "code",
   "execution_count": 2,
   "metadata": {},
   "outputs": [
    {
     "name": "stdout",
     "output_type": "stream",
     "text": [
      "True\n"
     ]
    }
   ],
   "source": [
    "from tx import Tx\n",
    "from io import BytesIO\n",
    "raw_tx = ('0100000001813f79011acb80925dfe69b3def355fe914bd1d96a3f5f71bf8303c6a989c7d1000000006b483045022100ed81ff192e75a3fd2304004dcadb746fa5e24c5031ccfcf21320b0277457c98f02207a986d955c6e0cb35d446a89d3f56100f4d7f67801c31967743a9c8e10615bed01210349fc4e631e3624a545de3f89f5d8684c7b8138bd94bdd531d2e213bf016b278afeffffff02a135ef01000000001976a914bc3b654dca7e56b04dca18f2566cdaf02e8d9ada88ac99c39800000000001976a9141c4bc762dd5423e332166702cb75f40df79fea1288ac19430600')\n",
    "stream = BytesIO(bytes.fromhex(raw_tx))\n",
    "transaction = Tx.parse(stream)\n",
    "print(transaction.fee() >= 0)"
   ]
  },
  {
   "cell_type": "code",
   "execution_count": 3,
   "metadata": {},
   "outputs": [
    {
     "name": "stdout",
     "output_type": "stream",
     "text": [
      "True\n"
     ]
    }
   ],
   "source": [
    "from ecc import S256Point, Signature\n",
    "sec = bytes.fromhex('0349fc4e631e3624a545de3f89f5d8684c7b8138bd94bdd531d2e213bf016b278a')\n",
    "der = bytes.fromhex('3045022100ed81ff192e75a3fd2304004dcadb746fa5e24c5031ccfcf21320b0277457c98f02207a986d955c6e0cb35d446a89d3f56100f4d7f67801c31967743a9c8e10615bed')\n",
    "z = 0x27e0c5994dec7824e56dec6b2fcb342eb7cdb0d0957c2fce9882f715e85d81a6\n",
    "point = S256Point.parse(sec)\n",
    "signature = Signature.parse(der)\n",
    "print(point.verify(z, signature))"
   ]
  },
  {
   "cell_type": "code",
   "execution_count": 4,
   "metadata": {},
   "outputs": [
    {
     "name": "stdout",
     "output_type": "stream",
     "text": [
      "0x27e0c5994dec7824e56dec6b2fcb342eb7cdb0d0957c2fce9882f715e85d81a6\n"
     ]
    }
   ],
   "source": [
    "from helper import hash256\n",
    "modified_tx = bytes.fromhex('0100000001813f79011acb80925dfe69b3def355fe914bd1d96a3f5f71bf8303c6a989c7d1000000001976a914a802fc56c704ce87c42d7c92eb75e7896bdc41ae88acfeffffff02a135ef01000000001976a914bc3b654dca7e56b04dca18f2566cdaf02e8d9ada88ac99c39800000000001976a9141c4bc762dd5423e332166702cb75f40df79fea1288ac1943060001000000')\n",
    "h256 = hash256(modified_tx)\n",
    "z = int.from_bytes(h256, 'big')\n",
    "print(hex(z))"
   ]
  },
  {
   "cell_type": "code",
   "execution_count": 5,
   "metadata": {},
   "outputs": [
    {
     "data": {
      "text/plain": [
       "True"
      ]
     },
     "execution_count": 5,
     "metadata": {},
     "output_type": "execute_result"
    }
   ],
   "source": [
    "from ecc import S256Point, Signature\n",
    "sec = bytes.fromhex('0349fc4e631e3624a545de3f89f5d8684c7b8138bd94bdd531d2e213bf016b278a')\n",
    "der = bytes.fromhex('3045022100ed81ff192e75a3fd2304004dcadb746fa5e24c5031ccfcf21320b0277457c98f02207a986d955c6e0cb35d446a89d3f56100f4d7f67801c31967743a9c8e10615bed')\n",
    "z = 0x27e0c5994dec7824e56dec6b2fcb342eb7cdb0d0957c2fce9882f715e85d81a6\n",
    "point = S256Point.parse(sec)\n",
    "signature = Signature.parse(der)\n",
    "point.verify(z, signature)"
   ]
  },
  {
   "cell_type": "markdown",
   "metadata": {},
   "source": [
    "### Exercise 1\n",
    "\n",
    "Write the `sig_hash` method for the `Tx` class.\n",
    "\n",
    "#### Make [this test](/edit/code-ch07/tx.py) pass: `tx.py:TxTest:test_sig_hash`"
   ]
  },
  {
   "cell_type": "code",
   "execution_count": 6,
   "metadata": {},
   "outputs": [
    {
     "name": "stderr",
     "output_type": "stream",
     "text": [
      ".\n",
      "----------------------------------------------------------------------\n",
      "Ran 1 test in 0.010s\n",
      "\n",
      "OK\n"
     ]
    }
   ],
   "source": [
    "# Exercise 1\n",
    "\n",
    "reload(tx)\n",
    "run(tx.TxTest(\"test_sig_hash\"))"
   ]
  },
  {
   "cell_type": "markdown",
   "metadata": {},
   "source": [
    "### Exercise 2\n",
    "\n",
    "Write the `verify_input` method for the `Tx` class. You will want to use the `TxIn.script_pubkey()`, `Tx.sig_hash()` and `Script.evaluate()` methods.\n",
    "\n",
    "#### Make [this test](/edit/code-ch07/tx.py) pass: `tx.py:TxTest:test_verify_p2pkh`"
   ]
  },
  {
   "cell_type": "code",
   "execution_count": 7,
   "metadata": {},
   "outputs": [
    {
     "name": "stderr",
     "output_type": "stream",
     "text": [
      ".\n",
      "----------------------------------------------------------------------\n",
      "Ran 1 test in 0.211s\n",
      "\n",
      "OK\n"
     ]
    }
   ],
   "source": [
    "# Exercise 2\n",
    "\n",
    "reload(tx)\n",
    "run(tx.TxTest(\"test_verify_p2pkh\"))"
   ]
  },
  {
   "cell_type": "code",
   "execution_count": 8,
   "metadata": {},
   "outputs": [
    {
     "name": "stdout",
     "output_type": "stream",
     "text": [
      "tx: cd30a8da777d28ef0e61efe68a9f7c559c1d3e5bcd7b265c850ccb4068598d11\n",
      "version: 1\n",
      "tx_ins:\n",
      "0d6fe5213c0b3291f208cba8bfb59b7476dffacc4e5cb66f6eb20a080843a299:13\n",
      "tx_outs:\n",
      "33000000:OP_DUP OP_HASH160 d52ad7ca9b3d096a38e752c2018e6fbc40cdf26f OP_EQUALVERIFY OP_CHECKSIG\n",
      "10000000:OP_DUP OP_HASH160 507b27411ccf7f16f10297de6cef3f291623eddf OP_EQUALVERIFY OP_CHECKSIG\n",
      "locktime: 0\n"
     ]
    }
   ],
   "source": [
    "from helper import decode_base58, SIGHASH_ALL\n",
    "from script import p2pkh_script, Script\n",
    "from tx import TxIn, TxOut, Tx\n",
    "prev_tx = bytes.fromhex('0d6fe5213c0b3291f208cba8bfb59b7476dffacc4e5cb66f6eb20a080843a299')\n",
    "prev_index = 13\n",
    "tx_in = TxIn(prev_tx, prev_index)\n",
    "tx_outs = []\n",
    "change_amount = int(0.33*100000000)\n",
    "change_h160 = decode_base58('mzx5YhAH9kNHtcN481u6WkjeHjYtVeKVh2')\n",
    "change_script = p2pkh_script(change_h160)\n",
    "change_output = TxOut(amount=change_amount, script_pubkey=change_script)\n",
    "target_amount = int(0.1*100000000)\n",
    "target_h160 = decode_base58('mnrVtF8DWjMu839VW3rBfgYaAfKk8983Xf')\n",
    "target_script = p2pkh_script(target_h160)\n",
    "target_output = TxOut(amount=target_amount, script_pubkey=target_script)\n",
    "tx_obj = Tx(1, [tx_in], [change_output, target_output], 0, True)\n",
    "print(tx_obj)"
   ]
  },
  {
   "cell_type": "code",
   "execution_count": 9,
   "metadata": {},
   "outputs": [
    {
     "name": "stdout",
     "output_type": "stream",
     "text": [
      "0100000001813f79011acb80925dfe69b3def355fe914bd1d96a3f5f71bf8303c6a989c7d1000000006a47304402207db2402a3311a3b845b038885e3dd889c08126a8570f26a844e3e4049c482a11022010178cdca4129eacbeab7c44648bf5ac1f9cac217cd609d216ec2ebc8d242c0a012103935581e52c354cd2f484fe8ed83af7a3097005b2f9c60bff71d35bd795f54b67feffffff02a135ef01000000001976a914bc3b654dca7e56b04dca18f2566cdaf02e8d9ada88ac99c39800000000001976a9141c4bc762dd5423e332166702cb75f40df79fea1288ac19430600\n"
     ]
    }
   ],
   "source": [
    "from ecc import PrivateKey\n",
    "from helper import SIGHASH_ALL\n",
    "z = transaction.sig_hash(0)\n",
    "private_key = PrivateKey(secret=8675309)\n",
    "der = private_key.sign(z).der()\n",
    "sig = der + SIGHASH_ALL.to_bytes(1, 'big')\n",
    "sec = private_key.point.sec()\n",
    "script_sig = Script([sig, sec])\n",
    "transaction.tx_ins[0].script_sig = script_sig \n",
    "print(transaction.serialize().hex())"
   ]
  },
  {
   "cell_type": "code",
   "execution_count": 10,
   "metadata": {},
   "outputs": [
    {
     "name": "stdout",
     "output_type": "stream",
     "text": [
      "mhREsddRNQ4i4qYi2cH764b7RFxaiu5ar8\n"
     ]
    }
   ],
   "source": [
    "from ecc import PrivateKey\n",
    "from helper import hash256, little_endian_to_int\n",
    "passphrase = b'brjf@yahoo.com I did not make it all the way through 3rd grade for nothin'\n",
    "secret = little_endian_to_int(hash256(passphrase))\n",
    "private_key = PrivateKey(secret)\n",
    "print(private_key.point.address(testnet=True))"
   ]
  },
  {
   "cell_type": "markdown",
   "metadata": {},
   "source": [
    "### Exercise 3\n",
    "\n",
    "Write the `sign_input` method for the `Tx` class.\n",
    "\n",
    "#### Make [this test](/edit/code-ch07/tx.py) pass: `tx.py:TxTest:test_sign_input`"
   ]
  },
  {
   "cell_type": "code",
   "execution_count": 11,
   "metadata": {},
   "outputs": [
    {
     "name": "stderr",
     "output_type": "stream",
     "text": [
      ".\n",
      "----------------------------------------------------------------------\n",
      "Ran 1 test in 0.171s\n",
      "\n",
      "OK\n"
     ]
    }
   ],
   "source": [
    "# Exercise 3\n",
    "\n",
    "reload(tx)\n",
    "run(tx.TxTest(\"test_sign_input\"))"
   ]
  },
  {
   "cell_type": "markdown",
   "metadata": {},
   "source": [
    "### Exercise 4\n",
    "\n",
    "Create a testnet transaction that sends 60% of a single UTXO to `mwJn1YPMq7y5F8J3LkC5Hxg9PHyZ5K4cFv`. The remaining amount minus fees should go back to your own change address. This should be a 1 input, 2 output transaction.\n",
    "\n",
    "You can broadcast the transaction at https://testnet.blockchain.info/pushtx"
   ]
  },
  {
   "cell_type": "code",
   "execution_count": 12,
   "metadata": {},
   "outputs": [
    {
     "name": "stdout",
     "output_type": "stream",
     "text": [
      "True\n"
     ]
    }
   ],
   "source": [
    "# Exercise 4\n",
    "\n",
    "from io import BytesIO\n",
    "from ecc import S256Point, Signature\n",
    "from helper import hash256, int_to_little_endian, encode_varint\n",
    "from script import Script\n",
    "from tx import Tx, TxIn, TxOut, SIGHASH_ALL\n",
    "\n",
    "# Given components\n",
    "hex_tx = '0100000001868278ed6ddfb6c1ed3ad5f8181eb0c7a385aa0836f01d5e4789e6\\\n",
    "bd304d87221a000000db00483045022100dc92655fe37036f47756db8102e0d7d5e28b3beb83a8\\\n",
    "fef4f5dc0559bddfb94e02205a36d4e4e6c7fcd16658c50783e00c341609977aed3ad00937bf4e\\\n",
    "e942a8993701483045022100da6bee3c93766232079a01639d07fa869598749729ae323eab8eef\\\n",
    "53577d611b02207bef15429dcadce2121ea07f233115c6f09034c0be68db99980b9a6c5e754022\\\n",
    "01475221022626e955ea6ea6d98850c994f9107b036b1334f18ca8830bfff1295d21cfdb702103\\\n",
    "b287eaf122eea69030a0e9feed096bed8045c8b98bec453e1ffac7fbdbd4bb7152aeffffffff04\\\n",
    "d3b11400000000001976a914904a49878c0adfc3aa05de7afad2cc15f483a56a88ac7f40090000\\\n",
    "0000001976a914418327e3f3dda4cf5b9089325a4b95abdfa0334088ac722c0c00000000001976\\\n",
    "a914ba35042cfe9fc66fd35ac2224eebdafd1028ad2788acdc4ace020000000017a91474d691da\\\n",
    "1574e6b3c192ecfb52cc8984ee7b6c568700000000'\n",
    "hex_sec = '03b287eaf122eea69030a0e9feed096bed8045c8b98bec453e1ffac7fbdbd4b\\\n",
    "b71'\n",
    "hex_der = '3045022100da6bee3c93766232079a01639d07fa869598749729ae323eab8ee\\\n",
    "f53577d611b02207bef15429dcadce2121ea07f233115c6f09034c0be68db99980b9a6c5e75402\\\n",
    "2'\n",
    "hex_redeem_script = '475221022626e955ea6ea6d98850c994f9107b036b1334f18ca88\\\n",
    "30bfff1295d21cfdb702103b287eaf122eea69030a0e9feed096bed8045c8b98bec453e1ffac7f\\\n",
    "bdbd4bb7152ae'\n",
    "\n",
    "# Parse the hexadecimal strings into bytes\n",
    "sec = bytes.fromhex(hex_sec)\n",
    "der = bytes.fromhex(hex_der)\n",
    "redeem_script = Script.parse(BytesIO(bytes.fromhex(hex_redeem_script)))\n",
    "\n",
    "# Parse the transaction\n",
    "stream = BytesIO(bytes.fromhex(hex_tx))\n",
    "tx_obj = Tx.parse(stream)\n",
    "\n",
    "# Construct the preimage for signature verification\n",
    "s = int_to_little_endian(tx_obj.version, 4)\n",
    "s += encode_varint(len(tx_obj.tx_ins))\n",
    "\n",
    "# Serialize the input with the redeem script for the scriptSig\n",
    "i = tx_obj.tx_ins[0]\n",
    "s += TxIn(i.prev_tx, i.prev_index, redeem_script, i.sequence).serialize()\n",
    "\n",
    "s += encode_varint(len(tx_obj.tx_outs))\n",
    "for tx_out in tx_obj.tx_outs:\n",
    "    s += tx_out.serialize()\n",
    "\n",
    "s += int_to_little_endian(tx_obj.locktime, 4)\n",
    "s += int_to_little_endian(SIGHASH_ALL, 4)\n",
    "\n",
    "# Calculate the double SHA256 of the modified transaction to create z\n",
    "z = int.from_bytes(hash256(s), 'big')\n",
    "\n",
    "# Verify the signature\n",
    "point = S256Point.parse(sec)\n",
    "sig = Signature.parse(der)\n",
    "print(point.verify(z, sig)) \n",
    "\n",
    "\n",
    "\n",
    "# The transaction can now be broadcasted to a testnet blockchain explorer\n"
   ]
  },
  {
   "cell_type": "markdown",
   "metadata": {},
   "source": [
    "### Exercise 5\n",
    "\n",
    "Advanced: get some more testnet coins from a testnet faucet and create a 2 input, 1 output transaction. 1 input should be from the faucet, the other should be from the previous exercise, the output can be your own address.\n",
    "\n",
    "You can broadcast the transaction at https://testnet.blockchain.info/pushtx"
   ]
  },
  {
   "cell_type": "code",
   "execution_count": null,
   "metadata": {},
   "outputs": [],
   "source": [
    "# Exercise 5\n",
    "\n",
    "from io import BytesIO\n",
    "from helper import decode_base58, SIGHASH_ALL, hash256, little_endian_to_int, encode_varint, int_to_little_endian\n",
    "from script import p2pkh_script, Script\n",
    "from tx import Tx, TxIn, TxOut\n",
    "\n",
    "# Assume these values are obtained from the previous steps\n",
    "txid1 = 'facade00deadbeef000000000000000000000000000000000000000000000000'  # From faucet\n",
    "vout1 = 0  # Usually 0 if the faucet sent to one output\n",
    "amount1 = 0.01  # Amount from the faucet in BTC (e.g., 0.01 BTC)\n",
    "\n",
    "txid2 = 'deadbeef000000000000000000000000000000000000000000000000000000fa'  # Previous exercise\n",
    "vout2 = 1  # Change output from the previous exercise\n",
    "amount2 = 0.005  # Change amount in BTC\n",
    "\n",
    "# Convert BTC to Satoshis (integers)\n",
    "amount1_satoshi = int(amount1 * 100000000)  # Convert BTC to satoshi\n",
    "amount2_satoshi = int(amount2 * 100000000)  # Convert BTC to satoshi\n",
    "\n",
    "# Total output amount (inputs minus fee)\n",
    "total_input_satoshi = amount1_satoshi + amount2_satoshi  # Total input in satoshis\n",
    "fee = 250  # Assume a fee of 250 satoshis\n",
    "output_amount_satoshi = total_input_satoshi - fee  # Output amount in satoshis\n",
    "\n",
    "# Create inputs\n",
    "tx_ins = []\n",
    "tx_ins.append(TxIn(bytes.fromhex(txid1)[::-1], vout1, Script([]), 0xffffffff))\n",
    "tx_ins.append(TxIn(bytes.fromhex(txid2)[::-1], vout2, Script([]), 0xffffffff))\n",
    "\n",
    "# Create output\n",
    "tx_outs = []\n",
    "output_script = p2pkh_script(decode_base58('mhREsddRNQ4i4qYi2cH764b7RFxaiu5ar8'))\n",
    "tx_outs.append(TxOut(output_amount_satoshi, output_script))\n",
    "\n",
    "# Create the transaction\n",
    "tx_obj = Tx(1, tx_ins, tx_outs, 0, testnet=True)\n",
    "\n",
    "# Serialize transaction for signing\n",
    "# Here we would typically sign the transaction using the private keys associated with the inputs\n",
    "# For simplicity, we'll not include the signing process\n",
    "\n",
    "# Show the raw serialized transaction\n",
    "print(tx_obj.serialize().hex())\n",
    "\n",
    "\n",
    "def verify_input(self, input_index):\n",
    "    tx_in = self.tx_ins[input_index]\n",
    "    script_pubkey = tx_in.script_pubkey(testnet=self.testnet)\n",
    "    if script_pubkey.is_p2sh_script_pubkey():\n",
    "        cmd = tx_in.script_sig.cmds[-1]\n",
    "        raw_redeem = encode_varint(len(cmd)) + cmd\n",
    "        redeem_script = Script.parse(BytesIO(raw_redeem))\n",
    "    else:\n",
    "        redeem_script = None\n",
    "    z = self.sig_hash(input_index, redeem_script)\n",
    "    combined = tx_in.script_sig + script_pubkey\n",
    "    return combined.evaluate(z)\n",
    "\n"
   ]
  },
  {
   "cell_type": "code",
   "execution_count": 14,
   "metadata": {},
   "outputs": [
    {
     "name": "stdout",
     "output_type": "stream",
     "text": [
      "Bech32 Address: tb1qzndeshkr5xsdh7m8ks9s0g6cy2966gfd6u5637\n"
     ]
    }
   ],
   "source": [
    "# Exercize 6: Get proper testnet Bech32 change_address\n",
    "\n",
    "from ecc import PrivateKey\n",
    "from helper import hash256, little_endian_to_int, hash160\n",
    "import bech32\n",
    "\n",
    "def bech32_address(pubkey, testnet=True):\n",
    "    \"\"\" Generate a Bech32 address from a public key \"\"\"\n",
    "    # Compute the Witness Program (HASH160 for P2WPKH)\n",
    "    wp = hash160(pubkey.sec(compressed=True))\n",
    "    \n",
    "    # Bech32 human-readable part (hrp) differs for testnet and mainnet\n",
    "    hrp = 'tb' if testnet else 'bc'\n",
    "    \n",
    "    # Convert the 20-byte witness program (version 0 for P2WPKH) to base32\n",
    "    data = bech32.convertbits(wp, 8, 5)\n",
    "    \n",
    "    # Encode as bech32 and return the address\n",
    "    return bech32.bech32_encode(hrp, [0] + data)\n",
    "\n",
    "# Usage:\n",
    "passphrase = b'brjf@yahoo.com I did not make it all the way through 3rd grade for nothin'\n",
    "secret = little_endian_to_int(hash256(passphrase))\n",
    "private_key = PrivateKey(secret)\n",
    "\n",
    "# Generate the Bech32 address\n",
    "address = bech32_address(private_key.point, testnet=True)\n",
    "print(\"Bech32 Address:\", address)"
   ]
  },
  {
   "cell_type": "code",
   "execution_count": 471,
   "metadata": {},
   "outputs": [
    {
     "name": "stdout",
     "output_type": "stream",
     "text": [
      "Private key (integer): 72126807206263466701712740363329084999950309380954694321123174482932578356338\n",
      "Mnemonic: panda raw theory general tonight drive pill cheap deposit whisper use learn\n"
     ]
    }
   ],
   "source": [
    "# Exercize 7:\n",
    "\n",
    "from ecc import PrivateKey\n",
    "from helper import hash256, little_endian_to_int\n",
    "from mnemonic import Mnemonic\n",
    "\n",
    "def generate_mnemonic(entropy_bytes):\n",
    "    mnemo = Mnemonic(\"english\")\n",
    "    mnemonic_words = mnemo.to_mnemonic(entropy_bytes)\n",
    "    return mnemonic_words\n",
    "\n",
    "# Generating private key using a passphrase\n",
    "passphrase = b'brjf@yahoo.com I did not make it all the way through 3rd grade for nothin'\n",
    "secret = little_endian_to_int(hash256(passphrase))\n",
    "priv = PrivateKey(secret=secret)\n",
    "\n",
    "# Display the private key as an integer\n",
    "print(\"Private key (integer):\", priv.secret)\n",
    "\n",
    "# Prepare entropy by taking the first 128 bits of the private key\n",
    "# We use 32 bytes because hash256 returns a 256-bit number\n",
    "entropy_bytes = priv.secret.to_bytes(32, 'big')[:16]  # Get the first 16 bytes (128 bits)\n",
    "mnemonic = generate_mnemonic(entropy_bytes)\n",
    "print(\"Mnemonic:\", mnemonic)\n"
   ]
  },
  {
   "cell_type": "code",
   "execution_count": null,
   "metadata": {},
   "outputs": [],
   "source": []
  }
 ],
 "metadata": {
  "kernelspec": {
   "display_name": "Python 3 (ipykernel)",
   "language": "python",
   "name": "python3"
  },
  "language_info": {
   "codemirror_mode": {
    "name": "ipython",
    "version": 3
   },
   "file_extension": ".py",
   "mimetype": "text/x-python",
   "name": "python",
   "nbconvert_exporter": "python",
   "pygments_lexer": "ipython3",
   "version": "3.11.3"
  }
 },
 "nbformat": 4,
 "nbformat_minor": 4
}
