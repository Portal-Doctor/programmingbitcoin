{
 "cells": [
  {
   "cell_type": "code",
   "execution_count": 457,
   "metadata": {},
   "outputs": [],
   "source": [
    "############## PLEASE RUN THIS CELL FIRST! ###################\n",
    "\n",
    "# import everything and define a test runner function\n",
    "from importlib import reload\n",
    "from helper import run\n",
    "import ecc\n",
    "import helper\n",
    "import tx\n",
    "import script"
   ]
  },
  {
   "cell_type": "code",
   "execution_count": 458,
   "metadata": {},
   "outputs": [
    {
     "name": "stdout",
     "output_type": "stream",
     "text": [
      "True\n"
     ]
    }
   ],
   "source": [
    "from tx import Tx\n",
    "from io import BytesIO\n",
    "raw_tx = ('0100000001813f79011acb80925dfe69b3def355fe914bd1d96a3f5f71bf8303c6a989c7d1000000006b483045022100ed81ff192e75a3fd2304004dcadb746fa5e24c5031ccfcf21320b0277457c98f02207a986d955c6e0cb35d446a89d3f56100f4d7f67801c31967743a9c8e10615bed01210349fc4e631e3624a545de3f89f5d8684c7b8138bd94bdd531d2e213bf016b278afeffffff02a135ef01000000001976a914bc3b654dca7e56b04dca18f2566cdaf02e8d9ada88ac99c39800000000001976a9141c4bc762dd5423e332166702cb75f40df79fea1288ac19430600')\n",
    "stream = BytesIO(bytes.fromhex(raw_tx))\n",
    "transaction = Tx.parse(stream)\n",
    "print(transaction.fee() >= 0)"
   ]
  },
  {
   "cell_type": "code",
   "execution_count": 459,
   "metadata": {},
   "outputs": [
    {
     "name": "stdout",
     "output_type": "stream",
     "text": [
      "True\n"
     ]
    }
   ],
   "source": [
    "from ecc import S256Point, Signature\n",
    "sec = bytes.fromhex('0349fc4e631e3624a545de3f89f5d8684c7b8138bd94bdd531d2e213bf016b278a')\n",
    "der = bytes.fromhex('3045022100ed81ff192e75a3fd2304004dcadb746fa5e24c5031ccfcf21320b0277457c98f02207a986d955c6e0cb35d446a89d3f56100f4d7f67801c31967743a9c8e10615bed')\n",
    "z = 0x27e0c5994dec7824e56dec6b2fcb342eb7cdb0d0957c2fce9882f715e85d81a6\n",
    "point = S256Point.parse(sec)\n",
    "signature = Signature.parse(der)\n",
    "print(point.verify(z, signature))"
   ]
  },
  {
   "cell_type": "code",
   "execution_count": 460,
   "metadata": {},
   "outputs": [
    {
     "name": "stdout",
     "output_type": "stream",
     "text": [
      "0x27e0c5994dec7824e56dec6b2fcb342eb7cdb0d0957c2fce9882f715e85d81a6\n"
     ]
    }
   ],
   "source": [
    "from helper import hash256\n",
    "modified_tx = bytes.fromhex('0100000001813f79011acb80925dfe69b3def355fe914bd1d96a3f5f71bf8303c6a989c7d1000000001976a914a802fc56c704ce87c42d7c92eb75e7896bdc41ae88acfeffffff02a135ef01000000001976a914bc3b654dca7e56b04dca18f2566cdaf02e8d9ada88ac99c39800000000001976a9141c4bc762dd5423e332166702cb75f40df79fea1288ac1943060001000000')\n",
    "h256 = hash256(modified_tx)\n",
    "z = int.from_bytes(h256, 'big')\n",
    "print(hex(z))"
   ]
  },
  {
   "cell_type": "code",
   "execution_count": 461,
   "metadata": {},
   "outputs": [
    {
     "data": {
      "text/plain": [
       "True"
      ]
     },
     "execution_count": 461,
     "metadata": {},
     "output_type": "execute_result"
    }
   ],
   "source": [
    "from ecc import S256Point, Signature\n",
    "sec = bytes.fromhex('0349fc4e631e3624a545de3f89f5d8684c7b8138bd94bdd531d2e213bf016b278a')\n",
    "der = bytes.fromhex('3045022100ed81ff192e75a3fd2304004dcadb746fa5e24c5031ccfcf21320b0277457c98f02207a986d955c6e0cb35d446a89d3f56100f4d7f67801c31967743a9c8e10615bed')\n",
    "z = 0x27e0c5994dec7824e56dec6b2fcb342eb7cdb0d0957c2fce9882f715e85d81a6\n",
    "point = S256Point.parse(sec)\n",
    "signature = Signature.parse(der)\n",
    "point.verify(z, signature)"
   ]
  },
  {
   "cell_type": "markdown",
   "metadata": {},
   "source": [
    "### Exercise 1\n",
    "\n",
    "Write the `sig_hash` method for the `Tx` class.\n",
    "\n",
    "#### Make [this test](/edit/code-ch07/tx.py) pass: `tx.py:TxTest:test_sig_hash`"
   ]
  },
  {
   "cell_type": "code",
   "execution_count": 462,
   "metadata": {},
   "outputs": [
    {
     "name": "stderr",
     "output_type": "stream",
     "text": [
      ".\n",
      "----------------------------------------------------------------------\n",
      "Ran 1 test in 0.002s\n",
      "\n",
      "OK\n"
     ]
    }
   ],
   "source": [
    "# Exercise 1\n",
    "\n",
    "reload(tx)\n",
    "run(tx.TxTest(\"test_sig_hash\"))"
   ]
  },
  {
   "cell_type": "markdown",
   "metadata": {},
   "source": [
    "### Exercise 2\n",
    "\n",
    "Write the `verify_input` method for the `Tx` class. You will want to use the `TxIn.script_pubkey()`, `Tx.sig_hash()` and `Script.evaluate()` methods.\n",
    "\n",
    "#### Make [this test](/edit/code-ch07/tx.py) pass: `tx.py:TxTest:test_verify_p2pkh`"
   ]
  },
  {
   "cell_type": "code",
   "execution_count": 463,
   "metadata": {},
   "outputs": [
    {
     "name": "stderr",
     "output_type": "stream",
     "text": [
      ".\n",
      "----------------------------------------------------------------------\n",
      "Ran 1 test in 0.215s\n",
      "\n",
      "OK\n"
     ]
    }
   ],
   "source": [
    "# Exercise 2\n",
    "\n",
    "reload(tx)\n",
    "run(tx.TxTest(\"test_verify_p2pkh\"))"
   ]
  },
  {
   "cell_type": "code",
   "execution_count": 464,
   "metadata": {},
   "outputs": [
    {
     "name": "stdout",
     "output_type": "stream",
     "text": [
      "tx: cd30a8da777d28ef0e61efe68a9f7c559c1d3e5bcd7b265c850ccb4068598d11\n",
      "version: 1\n",
      "tx_ins:\n",
      "0d6fe5213c0b3291f208cba8bfb59b7476dffacc4e5cb66f6eb20a080843a299:13\n",
      "tx_outs:\n",
      "33000000:OP_DUP OP_HASH160 d52ad7ca9b3d096a38e752c2018e6fbc40cdf26f OP_EQUALVERIFY OP_CHECKSIG\n",
      "10000000:OP_DUP OP_HASH160 507b27411ccf7f16f10297de6cef3f291623eddf OP_EQUALVERIFY OP_CHECKSIG\n",
      "locktime: 0\n"
     ]
    }
   ],
   "source": [
    "from helper import decode_base58, SIGHASH_ALL\n",
    "from script import p2pkh_script, Script\n",
    "from tx import TxIn, TxOut, Tx\n",
    "prev_tx = bytes.fromhex('0d6fe5213c0b3291f208cba8bfb59b7476dffacc4e5cb66f6eb20a080843a299')\n",
    "prev_index = 13\n",
    "tx_in = TxIn(prev_tx, prev_index)\n",
    "tx_outs = []\n",
    "change_amount = int(0.33*100000000)\n",
    "change_h160 = decode_base58('mzx5YhAH9kNHtcN481u6WkjeHjYtVeKVh2')\n",
    "change_script = p2pkh_script(change_h160)\n",
    "change_output = TxOut(amount=change_amount, script_pubkey=change_script)\n",
    "target_amount = int(0.1*100000000)\n",
    "target_h160 = decode_base58('mnrVtF8DWjMu839VW3rBfgYaAfKk8983Xf')\n",
    "target_script = p2pkh_script(target_h160)\n",
    "target_output = TxOut(amount=target_amount, script_pubkey=target_script)\n",
    "tx_obj = Tx(1, [tx_in], [change_output, target_output], 0, True)\n",
    "print(tx_obj)"
   ]
  },
  {
   "cell_type": "code",
   "execution_count": 465,
   "metadata": {},
   "outputs": [
    {
     "name": "stdout",
     "output_type": "stream",
     "text": [
      "0100000001813f79011acb80925dfe69b3def355fe914bd1d96a3f5f71bf8303c6a989c7d1000000006a47304402207db2402a3311a3b845b038885e3dd889c08126a8570f26a844e3e4049c482a11022010178cdca4129eacbeab7c44648bf5ac1f9cac217cd609d216ec2ebc8d242c0a012103935581e52c354cd2f484fe8ed83af7a3097005b2f9c60bff71d35bd795f54b67feffffff02a135ef01000000001976a914bc3b654dca7e56b04dca18f2566cdaf02e8d9ada88ac99c39800000000001976a9141c4bc762dd5423e332166702cb75f40df79fea1288ac19430600\n"
     ]
    }
   ],
   "source": [
    "from ecc import PrivateKey\n",
    "from helper import SIGHASH_ALL\n",
    "z = transaction.sig_hash(0)\n",
    "private_key = PrivateKey(secret=8675309)\n",
    "der = private_key.sign(z).der()\n",
    "sig = der + SIGHASH_ALL.to_bytes(1, 'big')\n",
    "sec = private_key.point.sec()\n",
    "script_sig = Script([sig, sec])\n",
    "transaction.tx_ins[0].script_sig = script_sig \n",
    "print(transaction.serialize().hex())"
   ]
  },
  {
   "cell_type": "code",
   "execution_count": 466,
   "metadata": {},
   "outputs": [
    {
     "name": "stdout",
     "output_type": "stream",
     "text": [
      "mhREsddRNQ4i4qYi2cH764b7RFxaiu5ar8\n"
     ]
    }
   ],
   "source": [
    "from ecc import PrivateKey\n",
    "from helper import hash256, little_endian_to_int\n",
    "passphrase = b'brjf@yahoo.com I did not make it all the way through 3rd grade for nothin'\n",
    "secret = little_endian_to_int(hash256(passphrase))\n",
    "private_key = PrivateKey(secret)\n",
    "print(private_key.point.address(testnet=True))"
   ]
  },
  {
   "cell_type": "markdown",
   "metadata": {},
   "source": [
    "### Exercise 3\n",
    "\n",
    "Write the `sign_input` method for the `Tx` class.\n",
    "\n",
    "#### Make [this test](/edit/code-ch07/tx.py) pass: `tx.py:TxTest:test_sign_input`"
   ]
  },
  {
   "cell_type": "code",
   "execution_count": 467,
   "metadata": {},
   "outputs": [
    {
     "name": "stderr",
     "output_type": "stream",
     "text": [
      ".\n",
      "----------------------------------------------------------------------\n",
      "Ran 1 test in 0.169s\n",
      "\n",
      "OK\n"
     ]
    }
   ],
   "source": [
    "# Exercise 3\n",
    "\n",
    "reload(tx)\n",
    "run(tx.TxTest(\"test_sign_input\"))"
   ]
  },
  {
   "cell_type": "markdown",
   "metadata": {},
   "source": [
    "### Exercise 4\n",
    "\n",
    "Create a testnet transaction that sends 60% of a single UTXO to `mwJn1YPMq7y5F8J3LkC5Hxg9PHyZ5K4cFv`. The remaining amount minus fees should go back to your own change address. This should be a 1 input, 2 output transaction.\n",
    "\n",
    "You can broadcast the transaction at https://testnet.blockchain.info/pushtx"
   ]
  },
  {
   "cell_type": "code",
   "execution_count": 468,
   "metadata": {},
   "outputs": [
    {
     "name": "stdout",
     "output_type": "stream",
     "text": [
      "Private key (integer): 72126807206263466701712740363329084999950309380954694321123174482932578356338\n",
      "Input signed successfully.\n",
      "Serialized Transaction: 0100000001d81973ca578b5e31b2606b83f3355e3a7d9afd4092d02f686e9fbb8f19da086e000000006a47304402204ae790abeb648f531c3013c48ce544bec32b3aa4f7be454da3337588a01829ce0220328f4f2334dcb6bddb42a8eaf99b4ff02153a57d7c7a0ccee6df3cc8a38fac9801210223f2d2de69a1a472aab865cd6a88cb7f848b4777f197f66699baa500d111b2e0ffffffff022220000000000000160014c8c43f9b09e2aadeb3fc1d200da042443bfd3b90b31400000000000016001414db985ec3a1a0dbfb67b40b07a358228bad212d00000000\n"
     ]
    }
   ],
   "source": [
    "# Exercise 4\n",
    "\n",
    "from ecc import PrivateKey\n",
    "from helper import hash256, little_endian_to_int\n",
    "from script import p2wpkh_script, Script\n",
    "from tx import TxIn, TxOut, Tx\n",
    "import bech32\n",
    "\n",
    "def decode_bech32(addr):\n",
    "    \"\"\" Decode a Bech32 address and return the witness program. \"\"\"\n",
    "    hrp, data = bech32.bech32_decode(addr)\n",
    "    if hrp is None or data is None:\n",
    "        raise ValueError(\"Invalid Bech32 address\")\n",
    "    decoded_data = bytes(bech32.convertbits(data[1:], 5, 8, False))\n",
    "    if not decoded_data:\n",
    "        raise ValueError(\"Error in Bech32 conversion\")\n",
    "    return decoded_data\n",
    "\n",
    "# Private key setup using a passphrase\n",
    "passphrase = b'brjf@yahoo.com I did not make it all the way through 3rd grade for nothin'\n",
    "secret = little_endian_to_int(hash256(passphrase))\n",
    "priv = PrivateKey(secret=secret)\n",
    "\n",
    "# Print the private key in integer form\n",
    "print(\"Private key (integer):\", priv.secret)\n",
    "\n",
    "# UTXO details\n",
    "prev_tx = bytes.fromhex('6e08da198fbb9f6e682fd09240fd9a7d3a5e35f3836b60b2315e8b57ca7319d8')\n",
    "prev_index = 0\n",
    "target_address = 'tb1qerzrlxcfu24davlur5sqmgzzgsal6wusda40er'\n",
    "change_address = 'tb1qzndeshkr5xsdh7m8ks9s0g6cy2966gfd6u5637'\n",
    "prev_tx_amount = 0.00013711  # BTC\n",
    "fee = 0.00000185  # BTC\n",
    "\n",
    "# Calculating the amounts for the transaction outputs\n",
    "send_amount = int(prev_tx_amount * 0.6 * 1e8)  # 60% to the target address\n",
    "change_amount = int((prev_tx_amount - send_amount / 1e8 - fee) * 1e8)  # Remaining amount minus fees back as change\n",
    "\n",
    "# Transaction inputs and outputs setup\n",
    "tx_ins = [TxIn(prev_tx, prev_index)]\n",
    "tx_outs = []\n",
    "\n",
    "# Output to the target address (P2WPKH)\n",
    "decoded_data = decode_bech32(target_address)\n",
    "script_pubkey = p2wpkh_script(decoded_data)\n",
    "tx_outs.append(TxOut(send_amount, script_pubkey))\n",
    "\n",
    "# Output to the change address (P2WPKH)\n",
    "decoded_data = decode_bech32(change_address)\n",
    "script_pubkey = p2wpkh_script(decoded_data)\n",
    "tx_outs.append(TxOut(change_amount, script_pubkey))\n",
    "\n",
    "# Creating and signing the transaction\n",
    "tx_obj = Tx(1, tx_ins, tx_outs, 0, testnet=True)\n",
    "if tx_obj.sign_input(0, priv):\n",
    "    print(\"Input signed successfully.\")\n",
    "else:\n",
    "    print(\"Input signing failed.\")\n",
    "\n",
    "# Serializing the transaction\n",
    "serialized_tx = tx_obj.serialize().hex()\n",
    "print(\"Serialized Transaction:\", serialized_tx)\n",
    "\n",
    "\n",
    "\n",
    "\n",
    "# The transaction can now be broadcasted to a testnet blockchain explorer\n"
   ]
  },
  {
   "cell_type": "markdown",
   "metadata": {},
   "source": [
    "### Exercise 5\n",
    "\n",
    "Advanced: get some more testnet coins from a testnet faucet and create a 2 input, 1 output transaction. 1 input should be from the faucet, the other should be from the previous exercise, the output can be your own address.\n",
    "\n",
    "You can broadcast the transaction at https://testnet.blockchain.info/pushtx"
   ]
  },
  {
   "cell_type": "code",
   "execution_count": 469,
   "metadata": {},
   "outputs": [
    {
     "ename": "ValueError",
     "evalue": "non-hexadecimal number found in fromhex() arg at position 63",
     "output_type": "error",
     "traceback": [
      "\u001b[1;31m---------------------------------------------------------------------------\u001b[0m",
      "\u001b[1;31mValueError\u001b[0m                                Traceback (most recent call last)",
      "Cell \u001b[1;32mIn[469], line 22\u001b[0m\n\u001b[0;32m     19\u001b[0m priv \u001b[38;5;241m=\u001b[39m PrivateKey(secret\u001b[38;5;241m=\u001b[39msecret)\n\u001b[0;32m     21\u001b[0m \u001b[38;5;66;03m# Details for the first input (from a testnet faucet transaction)\u001b[39;00m\n\u001b[1;32m---> 22\u001b[0m prev_tx1 \u001b[38;5;241m=\u001b[39m \u001b[38;5;28;43mbytes\u001b[39;49m\u001b[38;5;241;43m.\u001b[39;49m\u001b[43mfromhex\u001b[49m\u001b[43m(\u001b[49m\u001b[38;5;124;43m'\u001b[39;49m\u001b[38;5;124;43me3b0c44298fc1c149afbf4c8996f92427ae41e4649b934ca495991b7852b855\u001b[39;49m\u001b[38;5;124;43m'\u001b[39;49m\u001b[43m)\u001b[49m\n\u001b[0;32m     23\u001b[0m prev_index1 \u001b[38;5;241m=\u001b[39m \u001b[38;5;241m0\u001b[39m  \u001b[38;5;66;03m# Index of the output in the previous transaction we want to spend\u001b[39;00m\n\u001b[0;32m     25\u001b[0m \u001b[38;5;66;03m# Details for the second input (from Exercise 4 transaction)\u001b[39;00m\n",
      "\u001b[1;31mValueError\u001b[0m: non-hexadecimal number found in fromhex() arg at position 63"
     ]
    }
   ],
   "source": [
    "# Exercise 5\n",
    "\n",
    "from ecc import PrivateKey\n",
    "from helper import decode_base58, SIGHASH_ALL, hash256, little_endian_to_int\n",
    "from script import p2pkh_script, Script\n",
    "from tx import TxIn, TxOut, Tx\n",
    "\n",
    "def bech32_decode(addr):\n",
    "    import bech32\n",
    "    hrp, data = bech32.bech32_decode(addr)\n",
    "    if hrp is None or data is None:\n",
    "        raise ValueError(\"Invalid Bech32 address\")\n",
    "    decoded_data = bytes(bech32.convertbits(data[1:], 5, 8, False))\n",
    "    return decoded_data\n",
    "\n",
    "# Provided from Exercise 4\n",
    "passphrase = b'brjf@yahoo.com I did not make it all the way through 3rd grade for nothin'\n",
    "secret = little_endian_to_int(hash256(passphrase))\n",
    "priv = PrivateKey(secret=secret)\n",
    "\n",
    "# Details for the first input (from a testnet faucet transaction)\n",
    "prev_tx1 = bytes.fromhex('e3b0c44298fc1c149afbf4c8996f92427ae41e4649b934ca495991b7852b855')\n",
    "prev_index1 = 0  # Index of the output in the previous transaction we want to spend\n",
    "\n",
    "# Details for the second input (from Exercise 4 transaction)\n",
    "prev_tx2 = bytes.fromhex('6e08da198fbb9f6e682fd09240fd9a7d3a5e35f3836b60b2315e8b57ca7319d8')\n",
    "prev_index2 = 0\n",
    "\n",
    "# Transaction inputs\n",
    "tx_ins = [\n",
    "    TxIn(prev_tx1, prev_index1),  # First input\n",
    "    TxIn(prev_tx2, prev_index2)   # Second input\n",
    "]\n",
    "\n",
    "# Total input amount sum from the testnet faucet and the previous exercise\n",
    "input_amount = 0.001 + 0.00013711  # Just an example, replace with actual sums\n",
    "\n",
    "# Transaction output details\n",
    "target_address = 'mwJn1YPMq7y5F8J3LkC5Hxg9PHyZ5K4cFv'\n",
    "h160 = decode_base58(target_address)\n",
    "script_pubkey = p2pkh_script(h160)\n",
    "fee = 0.00001000  # Transaction fee\n",
    "output_amount = int((input_amount - fee) * 1e8)\n",
    "\n",
    "# Transaction output\n",
    "tx_outs = [\n",
    "    TxOut(output_amount, script_pubkey)\n",
    "]\n",
    "\n",
    "# Create the transaction\n",
    "tx_obj = Tx(1, tx_ins, tx_outs, 0, testnet=True)\n",
    "\n",
    "# Sign the first input\n",
    "if tx_obj.sign_input(0, priv, SIGHASH_ALL):\n",
    "    print(\"First input signed successfully.\")\n",
    "else:\n",
    "    print(\"Failed to sign the first input.\")\n",
    "\n",
    "# Sign the second input\n",
    "if tx_obj.sign_input(1, priv, SIGHASH_ALL):\n",
    "    print(\"Second input signed successfully.\")\n",
    "else:\n",
    "    print(\"Failed to sign the second input.\")\n",
    "\n",
    "# Serialize the transaction\n",
    "serialized_tx = tx_obj.serialize().hex()\n",
    "print(\"Serialized Transaction:\", serialized_tx)\n",
    "\n",
    "import requests\n",
    "url = \"https://api.blockcypher.com/v1/btc/test3/txs/push\"\n",
    "response = requests.post(url, json={'tx': serialized_tx})\n",
    "print(response.json())\n",
    "\n"
   ]
  },
  {
   "cell_type": "code",
   "execution_count": 470,
   "metadata": {},
   "outputs": [
    {
     "name": "stdout",
     "output_type": "stream",
     "text": [
      "Bech32 Address: tb1qzndeshkr5xsdh7m8ks9s0g6cy2966gfd6u5637\n"
     ]
    }
   ],
   "source": [
    "# Exercize 6: Get proper testnet Bech32 change_address\n",
    "\n",
    "from ecc import PrivateKey\n",
    "from helper import hash256, little_endian_to_int, hash160\n",
    "import bech32\n",
    "\n",
    "def bech32_address(pubkey, testnet=True):\n",
    "    \"\"\" Generate a Bech32 address from a public key \"\"\"\n",
    "    # Compute the Witness Program (HASH160 for P2WPKH)\n",
    "    wp = hash160(pubkey.sec(compressed=True))\n",
    "    \n",
    "    # Bech32 human-readable part (hrp) differs for testnet and mainnet\n",
    "    hrp = 'tb' if testnet else 'bc'\n",
    "    \n",
    "    # Convert the 20-byte witness program (version 0 for P2WPKH) to base32\n",
    "    data = bech32.convertbits(wp, 8, 5)\n",
    "    \n",
    "    # Encode as bech32 and return the address\n",
    "    return bech32.bech32_encode(hrp, [0] + data)\n",
    "\n",
    "# Usage:\n",
    "passphrase = b'brjf@yahoo.com I did not make it all the way through 3rd grade for nothin'\n",
    "secret = little_endian_to_int(hash256(passphrase))\n",
    "private_key = PrivateKey(secret)\n",
    "\n",
    "# Generate the Bech32 address\n",
    "address = bech32_address(private_key.point, testnet=True)\n",
    "print(\"Bech32 Address:\", address)"
   ]
  },
  {
   "cell_type": "code",
   "execution_count": 471,
   "metadata": {},
   "outputs": [
    {
     "name": "stdout",
     "output_type": "stream",
     "text": [
      "Private key (integer): 72126807206263466701712740363329084999950309380954694321123174482932578356338\n",
      "Mnemonic: panda raw theory general tonight drive pill cheap deposit whisper use learn\n"
     ]
    }
   ],
   "source": [
    "# Exercize 7:\n",
    "\n",
    "from ecc import PrivateKey\n",
    "from helper import hash256, little_endian_to_int\n",
    "from mnemonic import Mnemonic\n",
    "\n",
    "def generate_mnemonic(entropy_bytes):\n",
    "    mnemo = Mnemonic(\"english\")\n",
    "    mnemonic_words = mnemo.to_mnemonic(entropy_bytes)\n",
    "    return mnemonic_words\n",
    "\n",
    "# Generating private key using a passphrase\n",
    "passphrase = b'brjf@yahoo.com I did not make it all the way through 3rd grade for nothin'\n",
    "secret = little_endian_to_int(hash256(passphrase))\n",
    "priv = PrivateKey(secret=secret)\n",
    "\n",
    "# Display the private key as an integer\n",
    "print(\"Private key (integer):\", priv.secret)\n",
    "\n",
    "# Prepare entropy by taking the first 128 bits of the private key\n",
    "# We use 32 bytes because hash256 returns a 256-bit number\n",
    "entropy_bytes = priv.secret.to_bytes(32, 'big')[:16]  # Get the first 16 bytes (128 bits)\n",
    "mnemonic = generate_mnemonic(entropy_bytes)\n",
    "print(\"Mnemonic:\", mnemonic)\n"
   ]
  },
  {
   "cell_type": "code",
   "execution_count": null,
   "metadata": {},
   "outputs": [],
   "source": []
  }
 ],
 "metadata": {
  "kernelspec": {
   "display_name": "Python 3 (ipykernel)",
   "language": "python",
   "name": "python3"
  },
  "language_info": {
   "codemirror_mode": {
    "name": "ipython",
    "version": 3
   },
   "file_extension": ".py",
   "mimetype": "text/x-python",
   "name": "python",
   "nbconvert_exporter": "python",
   "pygments_lexer": "ipython3",
   "version": "3.11.3"
  }
 },
 "nbformat": 4,
 "nbformat_minor": 4
}
