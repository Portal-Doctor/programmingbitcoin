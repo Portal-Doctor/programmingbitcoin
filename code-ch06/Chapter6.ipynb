{
 "cells": [
  {
   "cell_type": "code",
   "execution_count": 3,
   "metadata": {},
   "outputs": [],
   "source": [
    "############## PLEASE RUN THIS CELL FIRST! ###################\n",
    "\n",
    "# import everything and define a test runner function\n",
    "from importlib import reload\n",
    "from helper import run\n",
    "import op\n",
    "import script"
   ]
  },
  {
   "cell_type": "markdown",
   "metadata": {},
   "source": [
    "### Exercise 1\n",
    "\n",
    "Write the `op_hash160` function.\n",
    "\n",
    "#### Make [this test](/edit/code-ch06/op.py) pass: `op.py:OpTest:test_op_hash160`"
   ]
  },
  {
   "cell_type": "code",
   "execution_count": 43,
   "metadata": {},
   "outputs": [
    {
     "name": "stderr",
     "output_type": "stream",
     "text": [
      ".\n",
      "----------------------------------------------------------------------\n",
      "Ran 1 test in 0.001s\n",
      "\n",
      "OK\n"
     ]
    }
   ],
   "source": [
    "# Exercise 1\n",
    "\n",
    "reload(op)\n",
    "run(op.OpTest(\"test_op_hash160\"))"
   ]
  },
  {
   "cell_type": "code",
   "execution_count": null,
   "metadata": {},
   "outputs": [],
   "source": [
    "from script import Script\n",
    "z = 0x7c076ff316692a3d7eb3c3bb0f8b1488cf72e1afcd929e29307032997a838a3d\n",
    "sec = bytes.fromhex('04887387e452b8eacc4acfde10d9aaf7f6d9a0f975aabb10d006e4da568744d06c61de6d95231cd89026e286df3b6ae4a894a3378e393e93a0f45b666329a0ae34')\n",
    "sig = bytes.fromhex('3045022000eff69ef2b1bd93a66ed5219add4fb51e11a840f404876325a1e8ffe0529a2c022100c7207fee197d27c618aea621406f6bf5ef6fca38681d82b2f06fddbdce6feab601')\n",
    "script_pubkey = Script([sec, 0xac])\n",
    "script_sig = Script([sig])\n",
    "combined_script = script_sig + script_pubkey\n",
    "print(combined_script.evaluate(z))"
   ]
  },
  {
   "cell_type": "markdown",
   "metadata": {},
   "source": [
    "### Exercise 2\n",
    "\n",
    "Write the `op_checksig` function in `op.py`\n",
    "\n",
    "#### Make [this test](/edit/code-ch06/op.py) pass: `op.py:OpTest:test_op_checksig`"
   ]
  },
  {
   "cell_type": "code",
   "execution_count": 44,
   "metadata": {},
   "outputs": [
    {
     "name": "stderr",
     "output_type": "stream",
     "text": [
      ".\n",
      "----------------------------------------------------------------------\n",
      "Ran 1 test in 0.111s\n",
      "\n",
      "OK\n"
     ]
    }
   ],
   "source": [
    "# Exercise 2\n",
    "\n",
    "reload(op)\n",
    "run(op.OpTest(\"test_op_checksig\"))"
   ]
  },
  {
   "cell_type": "markdown",
   "metadata": {},
   "source": [
    "### Exercise 3\n",
    "\n",
    "Create a ScriptSig that can unlock this ScriptPubKey. Note `OP_MUL` multiplies the top two elements of the stack.\n",
    "\n",
    "`767695935687`\n",
    "\n",
    "* `56 = OP_6`\n",
    "* `76 = OP_DUP`\n",
    "* `87 = OP_EQUAL`\n",
    "* `93 = OP_ADD`\n",
    "* `95 = OP_MUL`"
   ]
  },
  {
   "cell_type": "code",
   "execution_count": null,
   "metadata": {},
   "outputs": [
    {
     "name": "stdout",
     "output_type": "stream",
     "text": [
      "False\n"
     ]
    }
   ],
   "source": [
    "# Exercise 3\n",
    "\n",
    "from script import Script\n",
    "\n",
    "# ScriptPubKey from the problem statement\n",
    "script_pubkey = Script([0x76, 0x76, 0x95, 0x93, 0x56, 0x87])\n",
    "\n",
    "# Constructed ScriptSig that unlocks the ScriptPubKey\n",
    "script_sig = Script([0x52])  # OP_2\n",
    "\n",
    "# Combine ScriptSig and ScriptPubKey to create the combined script\n",
    "combined_script = script_sig + script_pubkey\n",
    "\n",
    "# Evaluate the combined script\n",
    "print(combined_script.evaluate(0))\n",
    "\n",
    "# Initial Stack after ScriptSig Execution:\n",
    "# 0x52 = OP_2: Pushes the value 2 onto the stack.\n",
    "\n",
    "# Initial Stack: [2]\n",
    "# ScriptPubKey Execution:\n",
    "# 0x76 = OP_DUP: Duplicates the top stack item. [2, 2]\n",
    "# 0x76 = OP_DUP: Duplicates the top stack item again. [2, 2, 2]\n",
    "# 0x95 = OP_MUL: Multiplies the top two stack items.\n",
    "#                              [2, 4] (since 2 multiplied by 2 equals 4)\n",
    "# 0x93 = OP_ADD: Adds the top two stack items.\n",
    "#                              [6] (since 2 added to 4 equals 6)\n",
    "# 0x56 = OP_6: Pushes the value 6 onto the stack.\n",
    "#                              [6, 6]\n",
    "# 0x87 = OP_EQUAL: Checks if the top two stack items are equal.\n",
    "# Stack after operation: [1] (since 6 is equal to 6, OP_EQUAL pushes 1 for True)"
   ]
  },
  {
   "cell_type": "markdown",
   "metadata": {},
   "source": [
    "### Exercise 4\n",
    "\n",
    "Figure out what this Script is doing:\n",
    "\n",
    "`6e879169a77ca787`\n",
    "\n",
    "* `69 = OP_VERIFY`\n",
    "* `6e = OP_2DUP`\n",
    "* `7c = OP_SWAP`\n",
    "* `87 = OP_EQUAL`\n",
    "* `91 = OP_NOT`\n",
    "* `a7 = OP_SHA1`\n",
    "\n",
    "Use the `Script.parse` method and look up what various opcodes do at https://en.bitcoin.it/wiki/Script"
   ]
  },
  {
   "cell_type": "code",
   "execution_count": 46,
   "metadata": {},
   "outputs": [
    {
     "name": "stdout",
     "output_type": "stream",
     "text": [
      "False\n"
     ]
    }
   ],
   "source": [
    "# Exercise 4\n",
    "\n",
    "# This exercise is asking us to construct a ScriptSig that, when executed with \n",
    "# the ScriptPubKey, results in a True (1) being left on the stack.\n",
    "\n",
    "# The ScriptPubKey is OP_2DUP OP_EQUAL OP_NOT OP_VERIFY OP_SHA1 OP_SWAP OP_SHA1 OP_EQUAL,\n",
    "# which essentially checks if the first element is not equal to the second, \n",
    "# hashes the second element, swaps, hashes the first element, and then checks \n",
    "# if the hashes are equal.\n",
    "\n",
    "# Finding two different inputs that produce a SHA-1 hash collision is \n",
    "# computationally challenging and not practical for a simple example.\n",
    "# Jimmy Song notes the SHA-1 Pinata exercise that people are still trying to \n",
    "# solve these collisions.\n",
    "\n",
    "# x and y are placeholders. In a real scenario, we would need actual values \n",
    "# that meet the SHA-1 collision condition, which is non-trivial to produce.\n",
    "\n",
    "from script import Script\n",
    "\n",
    "# Assuming x and y are two values such that SHA1(x) == SHA1(y) but x != y\n",
    "x = b'x'  # Placeholder value for x\n",
    "y = b'y'  # Placeholder value for y\n",
    "\n",
    "# Construct the ScriptSig with x and y\n",
    "script_sig = Script([y, x])\n",
    "\n",
    "# ScriptPubKey as provided\n",
    "script_pubkey = Script([0x6e, 0x87, 0x91, 0x69, 0xa7, 0x7c, 0xa7, 0x87])\n",
    "\n",
    "# Combine ScriptSig and ScriptPubKey to create the combined script\n",
    "combined_script = script_sig + script_pubkey\n",
    "\n",
    "# Evaluate the combined script\n",
    "print(combined_script.evaluate(0))"
   ]
  }
 ],
 "metadata": {
  "kernelspec": {
   "display_name": "Python 3 (ipykernel)",
   "language": "python",
   "name": "python3"
  },
  "language_info": {
   "codemirror_mode": {
    "name": "ipython",
    "version": 3
   },
   "file_extension": ".py",
   "mimetype": "text/x-python",
   "name": "python",
   "nbconvert_exporter": "python",
   "pygments_lexer": "ipython3",
   "version": "3.11.3"
  }
 },
 "nbformat": 4,
 "nbformat_minor": 4
}
